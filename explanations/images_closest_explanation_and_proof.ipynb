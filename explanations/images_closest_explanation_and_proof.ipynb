{
 "cells": [
  {
   "cell_type": "code",
   "execution_count": 31,
   "metadata": {},
   "outputs": [],
   "source": [
    "import numpy as np\n",
    "from skeleton import * "
   ]
  },
  {
   "cell_type": "code",
   "execution_count": 32,
   "metadata": {},
   "outputs": [],
   "source": [
    "h = int(10)\n",
    "D = 2\n",
    "N = 5\n",
    "\n",
    "r0, v0 = init_rv_uniform(D,N) # generating initial conditions\n",
    "R, V = gen_rv_matrices(D,N,h) # generating matrices for storage\n",
    "R, V = store_rv(R,V,r0,v0,0) # storing initial condions in matrix"
   ]
  },
  {
   "cell_type": "code",
   "execution_count": 33,
   "metadata": {},
   "outputs": [
    {
     "name": "stdout",
     "output_type": "stream",
     "text": [
      "[[[0.60672846 0.10588726]\n",
      "  [0.43321407 0.99797122]\n",
      "  [0.46462401 0.06199034]\n",
      "  [0.17998026 0.00378605]\n",
      "  [0.05102365 0.35114874]]\n",
      "\n",
      " [[0.         0.        ]\n",
      "  [0.         0.        ]\n",
      "  [0.         0.        ]\n",
      "  [0.         0.        ]\n",
      "  [0.         0.        ]]\n",
      "\n",
      " [[0.         0.        ]\n",
      "  [0.         0.        ]\n",
      "  [0.         0.        ]\n",
      "  [0.         0.        ]\n",
      "  [0.         0.        ]]\n",
      "\n",
      " [[0.         0.        ]\n",
      "  [0.         0.        ]\n",
      "  [0.         0.        ]\n",
      "  [0.         0.        ]\n",
      "  [0.         0.        ]]\n",
      "\n",
      " [[0.         0.        ]\n",
      "  [0.         0.        ]\n",
      "  [0.         0.        ]\n",
      "  [0.         0.        ]\n",
      "  [0.         0.        ]]\n",
      "\n",
      " [[0.         0.        ]\n",
      "  [0.         0.        ]\n",
      "  [0.         0.        ]\n",
      "  [0.         0.        ]\n",
      "  [0.         0.        ]]\n",
      "\n",
      " [[0.         0.        ]\n",
      "  [0.         0.        ]\n",
      "  [0.         0.        ]\n",
      "  [0.         0.        ]\n",
      "  [0.         0.        ]]\n",
      "\n",
      " [[0.         0.        ]\n",
      "  [0.         0.        ]\n",
      "  [0.         0.        ]\n",
      "  [0.         0.        ]\n",
      "  [0.         0.        ]]\n",
      "\n",
      " [[0.         0.        ]\n",
      "  [0.         0.        ]\n",
      "  [0.         0.        ]\n",
      "  [0.         0.        ]\n",
      "  [0.         0.        ]]\n",
      "\n",
      " [[0.         0.        ]\n",
      "  [0.         0.        ]\n",
      "  [0.         0.        ]\n",
      "  [0.         0.        ]\n",
      "  [0.         0.        ]]]\n"
     ]
    }
   ],
   "source": [
    "R.shape #(Tsteps, parts, dims)\n",
    "print(R)"
   ]
  },
  {
   "cell_type": "code",
   "execution_count": 34,
   "metadata": {},
   "outputs": [
    {
     "name": "stdout",
     "output_type": "stream",
     "text": [
      "[0.60672846 0.43321407 0.46462401 0.17998026 0.05102365]\n",
      "[0.10588726 0.99797122 0.06199034 0.00378605 0.35114874]\n"
     ]
    }
   ],
   "source": [
    "(Tsteps, parts, dims) = R.shape\n",
    "\n",
    "for dim in range(dims):\n",
    "\tcoords = R[0,:, dim]\n",
    "\tprint(coords)"
   ]
  },
  {
   "cell_type": "code",
   "execution_count": 35,
   "metadata": {},
   "outputs": [],
   "source": [
    "r_x = R[0,:,0]\n",
    "r_y = R[0,:,1]"
   ]
  },
  {
   "cell_type": "code",
   "execution_count": 36,
   "metadata": {},
   "outputs": [
    {
     "name": "stdout",
     "output_type": "stream",
     "text": [
      "[-0.39327154 -0.56678593 -0.53537599 -0.82001974 -0.94897635]\n",
      "[1.60672846 1.43321407 1.46462401 1.17998026 1.05102365]\n"
     ]
    }
   ],
   "source": [
    "#Box size L\n",
    "L = 1\n",
    "\n",
    "#Calling the image with smaller centre coordinate the minor image, we define\n",
    "minor_im_coords = r_x - L\n",
    "major_im_coords = r_x + L\n",
    "\n",
    "print(minor_im_coords)\n",
    "print(major_im_coords)"
   ]
  },
  {
   "cell_type": "code",
   "execution_count": 37,
   "metadata": {},
   "outputs": [
    {
     "name": "stdout",
     "output_type": "stream",
     "text": [
      "[[-0.39327154  0.60672846  1.60672846]\n",
      " [-0.56678593  0.43321407  1.43321407]\n",
      " [-0.53537599  0.46462401  1.46462401]\n",
      " [-0.82001974  0.17998026  1.17998026]\n",
      " [-0.94897635  0.05102365  1.05102365]]\n"
     ]
    }
   ],
   "source": [
    "# I wish to create an array of parts x 3:\n",
    "possible_r_xj = np.column_stack((minor_im_coords, r_x, major_im_coords))\n",
    "\n",
    "print(possible_r_xj)"
   ]
  },
  {
   "cell_type": "code",
   "execution_count": 38,
   "metadata": {},
   "outputs": [
    {
     "name": "stdout",
     "output_type": "stream",
     "text": [
      "[[[-0.39327154  0.60672846  1.60672846]\n",
      "  [-0.56678593  0.43321407  1.43321407]\n",
      "  [-0.53537599  0.46462401  1.46462401]\n",
      "  [-0.82001974  0.17998026  1.17998026]\n",
      "  [-0.94897635  0.05102365  1.05102365]]\n",
      "\n",
      " [[-0.39327154  0.60672846  1.60672846]\n",
      "  [-0.56678593  0.43321407  1.43321407]\n",
      "  [-0.53537599  0.46462401  1.46462401]\n",
      "  [-0.82001974  0.17998026  1.17998026]\n",
      "  [-0.94897635  0.05102365  1.05102365]]\n",
      "\n",
      " [[-0.39327154  0.60672846  1.60672846]\n",
      "  [-0.56678593  0.43321407  1.43321407]\n",
      "  [-0.53537599  0.46462401  1.46462401]\n",
      "  [-0.82001974  0.17998026  1.17998026]\n",
      "  [-0.94897635  0.05102365  1.05102365]]\n",
      "\n",
      " [[-0.39327154  0.60672846  1.60672846]\n",
      "  [-0.56678593  0.43321407  1.43321407]\n",
      "  [-0.53537599  0.46462401  1.46462401]\n",
      "  [-0.82001974  0.17998026  1.17998026]\n",
      "  [-0.94897635  0.05102365  1.05102365]]\n",
      "\n",
      " [[-0.39327154  0.60672846  1.60672846]\n",
      "  [-0.56678593  0.43321407  1.43321407]\n",
      "  [-0.53537599  0.46462401  1.46462401]\n",
      "  [-0.82001974  0.17998026  1.17998026]\n",
      "  [-0.94897635  0.05102365  1.05102365]]]\n"
     ]
    }
   ],
   "source": [
    "#We can now tile these possible coordinates parts times to find the closest image particles per particle.\n",
    "\n",
    "tiled_poss_xj = np.tile(possible_r_xj, (parts, 1, 1))\n",
    "\n",
    "print(tiled_poss_xj)"
   ]
  },
  {
   "cell_type": "code",
   "execution_count": 39,
   "metadata": {},
   "outputs": [
    {
     "name": "stdout",
     "output_type": "stream",
     "text": [
      "[[[-1.          0.          1.        ]\n",
      "  [-1.17351438 -0.17351438  0.82648562]\n",
      "  [-1.14210444 -0.14210444  0.85789556]\n",
      "  [-1.4267482  -0.4267482   0.5732518 ]\n",
      "  [-1.55570481 -0.55570481  0.44429519]]\n",
      "\n",
      " [[-0.82648562  0.17351438  1.17351438]\n",
      "  [-1.          0.          1.        ]\n",
      "  [-0.96859006  0.03140994  1.03140994]\n",
      "  [-1.25323381 -0.25323381  0.74676619]\n",
      "  [-1.38219042 -0.38219042  0.61780958]]\n",
      "\n",
      " [[-0.85789556  0.14210444  1.14210444]\n",
      "  [-1.03140994 -0.03140994  0.96859006]\n",
      "  [-1.          0.          1.        ]\n",
      "  [-1.28464376 -0.28464376  0.71535624]\n",
      "  [-1.41360036 -0.41360036  0.58639964]]\n",
      "\n",
      " [[-0.5732518   0.4267482   1.4267482 ]\n",
      "  [-0.74676619  0.25323381  1.25323381]\n",
      "  [-0.71535624  0.28464376  1.28464376]\n",
      "  [-1.          0.          1.        ]\n",
      "  [-1.12895661 -0.12895661  0.87104339]]\n",
      "\n",
      " [[-0.44429519  0.55570481  1.55570481]\n",
      "  [-0.61780958  0.38219042  1.38219042]\n",
      "  [-0.58639964  0.41360036  1.41360036]\n",
      "  [-0.87104339  0.12895661  1.12895661]\n",
      "  [-1.          0.          1.        ]]]\n"
     ]
    }
   ],
   "source": [
    "#If we now subtract from each tile in the tiled array the current position of the particle xi we can for every possible image calculate the difference in coordinates:\n",
    "\n",
    "nax = np.newaxis\n",
    "\n",
    "dim_diff = tiled_poss_xj - r_x[:, nax, nax]\n",
    "print(dim_diff)\n",
    "\n",
    "#Note the shifting row of -1, 0, 1 were a particle xi is looking at its own images xj thus giving integer L differences."
   ]
  },
  {
   "cell_type": "code",
   "execution_count": 40,
   "metadata": {},
   "outputs": [
    {
     "name": "stdout",
     "output_type": "stream",
     "text": [
      "[[[1.00000000e+00 0.00000000e+00 1.00000000e+00]\n",
      "  [1.37713601e+00 3.01072417e-02 6.83078472e-01]\n",
      "  [1.30440256e+00 2.01936723e-02 7.35984789e-01]\n",
      "  [2.03561042e+00 1.82114023e-01 3.28617630e-01]\n",
      "  [2.42021744e+00 3.08807830e-01 1.97398220e-01]]\n",
      "\n",
      " [[6.83078472e-01 3.01072417e-02 1.37713601e+00]\n",
      "  [1.00000000e+00 0.00000000e+00 1.00000000e+00]\n",
      "  [9.38166698e-01 9.86584534e-04 1.06380647e+00]\n",
      "  [1.57059499e+00 6.41273635e-02 5.57659740e-01]\n",
      "  [1.91045036e+00 1.46069517e-01 3.81688677e-01]]\n",
      "\n",
      " [[7.35984789e-01 2.01936723e-02 1.30440256e+00]\n",
      "  [1.06380647e+00 9.86584534e-04 9.38166698e-01]\n",
      "  [1.00000000e+00 0.00000000e+00 1.00000000e+00]\n",
      "  [1.65030958e+00 8.10220673e-02 5.11734557e-01]\n",
      "  [1.99826599e+00 1.71065261e-01 3.43864534e-01]]\n",
      "\n",
      " [[3.28617630e-01 1.82114023e-01 2.03561042e+00]\n",
      "  [5.57659740e-01 6.41273635e-02 1.57059499e+00]\n",
      "  [5.11734557e-01 8.10220673e-02 1.65030958e+00]\n",
      "  [1.00000000e+00 0.00000000e+00 1.00000000e+00]\n",
      "  [1.27454302e+00 1.66298068e-02 7.58716590e-01]]\n",
      "\n",
      " [[1.97398220e-01 3.08807830e-01 2.42021744e+00]\n",
      "  [3.81688677e-01 1.46069517e-01 1.91045036e+00]\n",
      "  [3.43864534e-01 1.71065261e-01 1.99826599e+00]\n",
      "  [7.58716590e-01 1.66298068e-02 1.27454302e+00]\n",
      "  [1.00000000e+00 0.00000000e+00 1.00000000e+00]]]\n"
     ]
    }
   ],
   "source": [
    "#We can now compute the smallest squared distance\n",
    "\n",
    "dim_dist = dim_diff**2\n",
    "print(dim_dist)"
   ]
  },
  {
   "cell_type": "code",
   "execution_count": 41,
   "metadata": {},
   "outputs": [
    {
     "name": "stdout",
     "output_type": "stream",
     "text": [
      "[[0.         0.03010724 0.02019367 0.18211402 0.19739822]\n",
      " [0.03010724 0.         0.00098658 0.06412736 0.14606952]\n",
      " [0.02019367 0.00098658 0.         0.08102207 0.17106526]\n",
      " [0.18211402 0.06412736 0.08102207 0.         0.01662981]\n",
      " [0.19739822 0.14606952 0.17106526 0.01662981 0.        ]]\n"
     ]
    }
   ],
   "source": [
    "#Finding the smalles difference between any xi and all xj\n",
    "\n",
    "min_dist = np.min(dim_dist, axis=2)\n",
    "print(min_dist)"
   ]
  },
  {
   "cell_type": "code",
   "execution_count": 42,
   "metadata": {},
   "outputs": [
    {
     "name": "stdout",
     "output_type": "stream",
     "text": [
      "[[[False  True False]\n",
      "  [False  True False]\n",
      "  [False  True False]\n",
      "  [False  True False]\n",
      "  [False False  True]]\n",
      "\n",
      " [[False  True False]\n",
      "  [False  True False]\n",
      "  [False  True False]\n",
      "  [False  True False]\n",
      "  [False  True False]]\n",
      "\n",
      " [[False  True False]\n",
      "  [False  True False]\n",
      "  [False  True False]\n",
      "  [False  True False]\n",
      "  [False  True False]]\n",
      "\n",
      " [[False  True False]\n",
      "  [False  True False]\n",
      "  [False  True False]\n",
      "  [False  True False]\n",
      "  [False  True False]]\n",
      "\n",
      " [[ True False False]\n",
      "  [False  True False]\n",
      "  [False  True False]\n",
      "  [False  True False]\n",
      "  [False  True False]]]\n"
     ]
    }
   ],
   "source": [
    "#We can now create a mask that selects the smallest distances from our array\n",
    "mask = np.equal(dim_dist, min_dist[:,:,np.newaxis])\n",
    "print(mask)\n"
   ]
  },
  {
   "cell_type": "code",
   "execution_count": 43,
   "metadata": {},
   "outputs": [
    {
     "name": "stdout",
     "output_type": "stream",
     "text": [
      "[ 0.60672846  0.43321407  0.46462401  0.17998026  1.05102365  0.60672846\n",
      "  0.43321407  0.46462401  0.17998026  0.05102365  0.60672846  0.43321407\n",
      "  0.46462401  0.17998026  0.05102365  0.60672846  0.43321407  0.46462401\n",
      "  0.17998026  0.05102365 -0.39327154  0.43321407  0.46462401  0.17998026\n",
      "  0.05102365]\n",
      "(25,)\n"
     ]
    }
   ],
   "source": [
    "#Use the mask to select the coordinates xj that result in the smallest distance to any xi\n",
    "\n",
    "xj_closest = tiled_poss_xj[mask]\n",
    "print(xj_closest)\n",
    "\n",
    "print(xj_closest.shape) #parts**2\n",
    "#The first five numbers are the xj positions of the 5 closest image particles to x0\n",
    "#The next five numbers are the x positions of the 5 closest image particles to x1\n",
    "#etc"
   ]
  },
  {
   "cell_type": "code",
   "execution_count": 44,
   "metadata": {},
   "outputs": [
    {
     "name": "stdout",
     "output_type": "stream",
     "text": [
      "[[ 0.60672846  0.43321407  0.46462401  0.17998026  1.05102365]\n",
      " [ 0.60672846  0.43321407  0.46462401  0.17998026  0.05102365]\n",
      " [ 0.60672846  0.43321407  0.46462401  0.17998026  0.05102365]\n",
      " [ 0.60672846  0.43321407  0.46462401  0.17998026  0.05102365]\n",
      " [-0.39327154  0.43321407  0.46462401  0.17998026  0.05102365]]\n"
     ]
    }
   ],
   "source": [
    "#After reshaping\n",
    "xj_closest_xi = xj_closest.reshape((parts, parts))\n",
    "print(xj_closest_xi)\n",
    "\n",
    "#We can index the result as for particle xi find the closest 5 xj by\n",
    "# xj_closest_xi[xi,:]"
   ]
  },
  {
   "cell_type": "code",
   "execution_count": 45,
   "metadata": {},
   "outputs": [],
   "source": [
    "import matplotlib.pyplot as plt\n",
    "\n",
    "import numpy as np\n",
    "from vrmatrices import *\n",
    "from sim_toolkit import closest_images\n",
    "\n"
   ]
  },
  {
   "cell_type": "code",
   "execution_count": 46,
   "metadata": {},
   "outputs": [],
   "source": [
    "h = int(10)\n",
    "D = 2\n",
    "N = 4\n",
    "L = 1\n",
    "\n",
    "r0, v0 = init_rv_uniform(D,N) # generating initial conditions\n",
    "R, V = gen_rv_matrices(D,N,h) # generating matrices for storage\n",
    "R, V = store_rv(R,V,r0,v0,0) # storing initial condions in matrix"
   ]
  },
  {
   "cell_type": "code",
   "execution_count": 47,
   "metadata": {},
   "outputs": [
    {
     "name": "stdout",
     "output_type": "stream",
     "text": [
      "[[0.73281982 0.7989766 ]\n",
      " [0.31582875 0.57436969]\n",
      " [0.11770846 0.91190748]\n",
      " [0.20463689 0.79978094]]\n"
     ]
    }
   ],
   "source": [
    "r0 = R[0,:,:]\n",
    "print(r0)"
   ]
  },
  {
   "cell_type": "code",
   "execution_count": 48,
   "metadata": {},
   "outputs": [
    {
     "data": {
      "image/png": "[encoded data removed]",
      "text/plain": [
       "<Figure size 432x288 with 1 Axes>"
      ]
     },
     "metadata": {
      "needs_background": "light"
     },
     "output_type": "display_data"
    }
   ],
   "source": [
    "#Simply showing the centre box with particles:\n",
    "\n",
    "(num_parts, dims) = r0.shape\n",
    "\n",
    "plt.scatter(r0[:,0], r0[:,1])\n",
    "for i in range(num_parts):\n",
    "\tplt.text(r0[i,0], r0[i,1], str(i))\n",
    "plt.xlim([0,L])\n",
    "plt.ylim([0,L])\n",
    "plt.gca().set_aspect('equal')\n",
    "plt.show()"
   ]
  },
  {
   "cell_type": "code",
   "execution_count": 49,
   "metadata": {},
   "outputs": [],
   "source": [
    "def add_imaged_parts(r0):\n",
    "\t(num_parts, dims) = r0.shape\n",
    "\tr0_x, r0_y = r0[:,0], r0[:,1]\n",
    "\n",
    "\timage_coords = np.zeros((num_parts*3**dims, dims))\n",
    "\n",
    "\tany_x = np.concatenate((r0_x - L, r0_x, r0_x + L))\n",
    "\tall_x = np.concatenate((any_x, any_x, any_x))\n",
    "\n",
    "\tany_y = np.concatenate((r0_y,r0_y,r0_y))\n",
    "\tall_y = np.concatenate((any_y-L, any_y, any_y+L))\n",
    "\n",
    "\timage_coords[:,0] = all_x\n",
    "\timage_coords[:,1] = all_y\n",
    "\n",
    "\treturn image_coords\n",
    "\n",
    "\t"
   ]
  },
  {
   "cell_type": "code",
   "execution_count": 50,
   "metadata": {},
   "outputs": [],
   "source": [
    "images = add_imaged_parts(r0)"
   ]
  },
  {
   "cell_type": "code",
   "execution_count": 51,
   "metadata": {},
   "outputs": [
    {
     "data": {
      "image/png": "[encoded data removed]",
      "text/plain": [
       "<Figure size 432x432 with 1 Axes>"
      ]
     },
     "metadata": {
      "needs_background": "light"
     },
     "output_type": "display_data"
    }
   ],
   "source": [
    "plt.scatter(images[:,0], images[:,1])\n",
    "for i in range(num_parts):\n",
    "\tplt.text(r0[i,0], r0[i,1], str(i))\n",
    "plt.xlim([-L,2*L])\n",
    "plt.ylim([-L,2*L])\n",
    "plt.gca().set_aspect('equal')\n",
    "plt.gcf().set_size_inches(6,6)\n",
    "plt.axvline(x=L, linestyle='--', color='black')\n",
    "plt.axvline(x=0, linestyle='--', color='black')\n",
    "plt.axhline(y=L, linestyle='--', color='black')\n",
    "plt.axhline(y=0, linestyle='--', color='black')\n",
    "plt.show()"
   ]
  },
  {
   "cell_type": "code",
   "execution_count": 52,
   "metadata": {},
   "outputs": [
    {
     "name": "stdout",
     "output_type": "stream",
     "text": [
      "[[[ 0.73281982  0.31582875  1.11770846  1.20463689]\n",
      "  [ 0.73281982  0.31582875  0.11770846  0.20463689]\n",
      "  [-0.26718018  0.31582875  0.11770846  0.20463689]\n",
      "  [-0.26718018  0.31582875  0.11770846  0.20463689]]\n",
      "\n",
      " [[ 0.7989766   0.57436969  0.91190748  0.79978094]\n",
      "  [ 0.7989766   0.57436969  0.91190748  0.79978094]\n",
      "  [ 0.7989766   0.57436969  0.91190748  0.79978094]\n",
      "  [ 0.7989766   0.57436969  0.91190748  0.79978094]]]\n"
     ]
    }
   ],
   "source": [
    "#moment of truth\n",
    "\n",
    "lookup_arr = closest_images(r0,L)\n",
    "print(lookup_arr)"
   ]
  },
  {
   "cell_type": "code",
   "execution_count": 53,
   "metadata": {},
   "outputs": [
    {
     "data": {
      "image/png": "[encoded data removed]",
      "text/plain": [
       "<Figure size 432x432 with 1 Axes>"
      ]
     },
     "metadata": {
      "needs_background": "light"
     },
     "output_type": "display_data"
    }
   ],
   "source": [
    "#So for the x coordinates of all particles closest to part0 should be indexed as:\n",
    "close_neigh_x = lookup_arr[0, 0, :]\n",
    "close_neigh_y = lookup_arr[1, 0, :]\n",
    "\n",
    "plt.scatter(images[:,0], images[:,1])\n",
    "for i in range(num_parts):\n",
    "\tplt.text(r0[i,0], r0[i,1], str(i))\n",
    "plt.xlim([-L,2*L])\n",
    "plt.ylim([-L,2*L])\n",
    "plt.gca().set_aspect('equal')\n",
    "plt.gcf().set_size_inches(6,6)\n",
    "plt.axvline(x=L, linestyle='--', color='black')\n",
    "plt.axvline(x=0, linestyle='--', color='black')\n",
    "plt.axhline(y=L, linestyle='--', color='black')\n",
    "plt.axhline(y=0, linestyle='--', color='black')\n",
    "\n",
    "plt.scatter(close_neigh_x, close_neigh_y, marker='2', color=\"red\", s=100)\n",
    "plt.show()"
   ]
  },
  {
   "cell_type": "code",
   "execution_count": 54,
   "metadata": {},
   "outputs": [],
   "source": [
    "#As you can see for particle 0 it chooses the y-major image of 3 instead of the normal particle 3"
   ]
  },
  {
   "cell_type": "code",
   "execution_count": 58,
   "metadata": {},
   "outputs": [
    {
     "data": {
      "image/png": "[encoded data removed]",
      "text/plain": [
       "<Figure size 864x864 with 1 Axes>"
      ]
     },
     "metadata": {
      "needs_background": "light"
     },
     "output_type": "display_data"
    }
   ],
   "source": [
    "h = int(10)\n",
    "D = 2\n",
    "N = 8 \n",
    "L = 1\n",
    "\n",
    "r0, v0 = init_rv_uniform(D,N) # generating initial conditions\n",
    "R, V = gen_rv_matrices(D,N,h) # generating matrices for storage\n",
    "R, V = store_rv(R,V,r0,v0,0) # storing initial condions in matrix\n",
    "\n",
    "r0 = R[0,:,:]\n",
    "\n",
    "images = add_imaged_parts(r0)\n",
    "\n",
    "plt.scatter(images[:,0], images[:,1])\n",
    "for i in range(N):\n",
    "\tplt.text(r0[i,0], r0[i,1]+0.05, str(i))\n",
    "plt.xlim([-L,2*L])\n",
    "plt.ylim([-L,2*L])\n",
    "plt.gca().set_aspect('equal')\n",
    "plt.gcf().set_size_inches(12,12)\n",
    "plt.axvline(x=L, linestyle='--', color='black')\n",
    "plt.axvline(x=0, linestyle='--', color='black')\n",
    "plt.axhline(y=L, linestyle='--', color='black')\n",
    "plt.axhline(y=0, linestyle='--', color='black')\n",
    "\n",
    "lookup_arr = closest_images(r0,L)\n",
    "close_neigh_x = lookup_arr[0, 1, :]\n",
    "close_neigh_y = lookup_arr[1, 1, :]\n",
    "\n",
    "\n",
    "plt.scatter(close_neigh_x, close_neigh_y, marker='2', color=\"red\", s=200)\n",
    "#plt.savefig(\"figs/closest_image_convention.png\")\n",
    "plt.show()"
   ]
  },
  {
   "cell_type": "code",
   "execution_count": 59,
   "metadata": {},
   "outputs": [],
   "source": [
    "from time import time_ns"
   ]
  },
  {
   "cell_type": "code",
   "execution_count": 27,
   "metadata": {},
   "outputs": [],
   "source": [
    "Ns = [i for i in range(14)]\n",
    "Ts = []\n",
    "\n",
    "for i in Ns:\n",
    "\th = int(10)\n",
    "\tD = 3\n",
    "\tN = 2**i\n",
    "\tL = 1\n",
    "\n",
    "\tr0, v0 = init_rv_uniform(D,N) # generating initial conditions\n",
    "\tR, V = gen_rv_matrices(D,N,h) # generating matrices for storage\n",
    "\tR, V = store_rv(R,V,r0,v0,0) # storing initial condions in matrix\n",
    "\n",
    "\tr0 = R[0,:,:]\n",
    "\tstart = time_ns()\n",
    "\tlookup_arr = closest_images(r0,L)\n",
    "\ttime = time_ns() -start\n",
    "\n",
    "\tTs.append(time)\n",
    "\n",
    "Ns = np.asarray(Ns)\n",
    "Ts = np.asarray(Ts)\n"
   ]
  },
  {
   "cell_type": "code",
   "execution_count": 28,
   "metadata": {},
   "outputs": [
    {
     "data": {
      "image/png": "[encoded data removed]",
      "text/plain": [
       "<Figure size 432x288 with 1 Axes>"
      ]
     },
     "metadata": {
      "needs_background": "light"
     },
     "output_type": "display_data"
    }
   ],
   "source": [
    "plt.plot(2**Ns, Ts/1e9, label='time needed ms')\n",
    "plt.xlabel('amount of particles')\n",
    "plt.ylabel(r\"time needed [$s$]\")\n",
    "plt.title(\"Not bad, not great\")\n",
    "plt.show()"
   ]
  },
  {
   "cell_type": "code",
   "execution_count": 29,
   "metadata": {},
   "outputs": [],
   "source": [
    "h = int(10)\n",
    "D = 3\n",
    "N = 200 \n",
    "L = 1\n",
    "\n",
    "r0, v0 = init_rv_uniform(D,N) # generating initial conditions\n",
    "R, V = gen_rv_matrices(D,N,h) # generating matrices for storage\n",
    "R, V = store_rv(R,V,r0,v0,0) # storing initial condions in matrix\n",
    "\n",
    "r0 = R[0,:,:]\n",
    "\n",
    "lookup_arr = closest_images(r0,L)"
   ]
  },
  {
   "cell_type": "code",
   "execution_count": 30,
   "metadata": {},
   "outputs": [
    {
     "data": {
      "text/plain": [
       "(3, 200, 200)"
      ]
     },
     "execution_count": 30,
     "metadata": {},
     "output_type": "execute_result"
    }
   ],
   "source": [
    "lookup_arr.shape"
   ]
  },
  {
   "cell_type": "code",
   "execution_count": 57,
   "metadata": {},
   "outputs": [
    {
     "data": {
      "text/plain": [
       "array([[0.89012923, 0.72403119, 0.49355968, 1.30389261, 1.38385343,\n",
       "        0.99569381, 1.294204  , 1.25417679, 0.53215009, 0.89115412,\n",
       "        0.50881767, 0.58366112, 1.00672339, 1.00499326, 0.79041368,\n",
       "        0.80069346, 0.93602387, 0.56966338, 0.86344579, 0.51664944,\n",
       "        0.70789078, 0.90956145, 0.7666711 , 0.44704452, 0.91586886,\n",
       "        0.94367775, 1.07441765, 1.2177322 , 1.08322165, 0.94476512,\n",
       "        1.008417  , 0.79281798, 1.27235301, 0.81594919, 1.06580474,\n",
       "        1.06326726, 1.07658231, 0.45428307, 1.03352029, 0.56930061,\n",
       "        1.28714509, 1.00060025, 1.03923843, 0.44080763, 0.90365926,\n",
       "        0.54574313, 1.18677897, 1.11603874, 0.55702733, 0.81642135,\n",
       "        1.31575822, 0.50385104, 0.67610868, 0.99850184, 0.70062517,\n",
       "        0.83528286, 0.50106402, 0.52496404, 1.05397069, 1.30990733,\n",
       "        0.53506306, 1.37908193, 1.05409295, 1.13261964, 0.74805834,\n",
       "        0.59456678, 0.41130704, 0.79217092, 0.86326106, 0.61698839,\n",
       "        0.59100008, 0.81419975, 0.44416647, 1.22412254, 1.1713806 ,\n",
       "        1.11541217, 1.25449924, 1.12634334, 1.01817368, 1.07867858,\n",
       "        1.28914753, 1.2722166 , 0.50967961, 0.85184021, 1.33717367,\n",
       "        0.3947046 , 0.85676208, 1.28918198, 0.81565101, 0.3934904 ,\n",
       "        0.98093563, 0.49091691, 0.95020045, 0.70115783, 0.71778511,\n",
       "        0.96790532, 0.39903606, 0.39535968, 0.46255434, 1.3387538 ,\n",
       "        0.95290256, 0.76497256, 1.17164044, 0.4519319 , 0.86415361,\n",
       "        1.17312612, 0.87521235, 0.9624057 , 1.19783694, 1.25314893,\n",
       "        0.57491174, 1.03215917, 1.06340711, 1.20567349, 1.1714719 ,\n",
       "        0.66870525, 0.84357814, 0.88283842, 1.20132879, 1.19695298,\n",
       "        0.50234488, 1.35940002, 1.3859421 , 0.54163821, 0.63552885,\n",
       "        0.60389126, 0.51886833, 0.460519  , 0.66711418, 0.62067724,\n",
       "        1.10171947, 1.3650398 , 0.90028082, 0.59338149, 1.01421182,\n",
       "        1.29923916, 1.31680885, 0.72399699, 0.56397283, 1.28951718,\n",
       "        0.47106534, 0.99173191, 0.43359024, 0.6641786 , 0.79347349,\n",
       "        0.91532496, 1.00334561, 0.54502781, 1.27384499, 0.42420542,\n",
       "        0.89328745, 0.70546958, 1.03826179, 1.11860444, 1.26653197,\n",
       "        0.5567304 , 0.86312578, 1.2915525 , 1.10050488, 0.78207519,\n",
       "        1.16616246, 0.40333104, 1.21923711, 0.79794041, 0.40335343,\n",
       "        1.08398548, 0.5126158 , 0.81007955, 0.99933325, 0.54741287,\n",
       "        0.49082168, 1.04697755, 0.83868916, 1.3612437 , 0.59906089,\n",
       "        0.81005407, 0.99325414, 0.97556565, 0.67073606, 0.41369684,\n",
       "        1.23708365, 1.31472154, 0.87018047, 0.82406262, 0.6640074 ,\n",
       "        0.82469149, 0.93910887, 0.41641331, 0.87063882, 0.78117982,\n",
       "        0.40183747, 0.73284765, 0.80505124, 0.91515883, 0.59771616,\n",
       "        1.32370023, 1.18532331, 0.94369584, 1.12767195, 1.26641626],\n",
       "       [0.72631309, 0.91262191, 1.03673058, 0.26159791, 0.23735036,\n",
       "        1.04486438, 0.53379185, 1.11539338, 0.310028  , 0.7432442 ,\n",
       "        0.24599899, 0.60469287, 0.60755955, 0.59608266, 0.38328611,\n",
       "        0.7938104 , 0.93044323, 0.59322989, 0.88570745, 0.36493201,\n",
       "        0.81259255, 0.31150901, 0.85070654, 1.16256938, 1.05468086,\n",
       "        1.15016318, 0.27192901, 1.0005772 , 0.80940628, 0.7556427 ,\n",
       "        0.80621513, 1.22281877, 0.46490288, 1.02887019, 0.42574982,\n",
       "        0.78409385, 1.15681229, 0.2792371 , 0.42692978, 0.81269786,\n",
       "        1.20638811, 0.78202334, 0.92756237, 0.57750717, 1.02333605,\n",
       "        0.6041361 , 0.5897582 , 1.08331441, 0.6649946 , 1.20111348,\n",
       "        0.38473065, 0.6121495 , 0.70876905, 0.91586285, 0.98899863,\n",
       "        1.08548326, 1.08429811, 0.99449293, 1.18601227, 0.60089583,\n",
       "        0.42548427, 1.11192384, 0.51584298, 1.0062384 , 1.07578922,\n",
       "        0.83730082, 0.52999395, 0.32873109, 0.38796466, 1.18043329,\n",
       "        1.0956092 , 0.77051973, 0.35768443, 0.74850034, 0.61646994,\n",
       "        0.91101361, 0.96725993, 0.36352109, 1.19355973, 0.72620283,\n",
       "        1.0721951 , 0.78097646, 0.26928119, 0.92024556, 0.76548446,\n",
       "        0.6267654 , 0.79756562, 0.48839876, 0.55713053, 0.75485822,\n",
       "        1.16719321, 0.94728117, 1.09038599, 0.93570249, 0.83234974,\n",
       "        1.115231  , 0.70365287, 0.3308221 , 0.69594132, 1.00119865,\n",
       "        0.56257622, 0.3331814 , 1.16627856, 1.08887988, 0.44302184,\n",
       "        0.49905646, 1.2159168 , 0.61646418, 0.82598386, 1.07270903,\n",
       "        0.55031512, 0.7600719 , 0.57762903, 1.11166494, 1.13683094,\n",
       "        1.05357987, 0.97557179, 0.61086414, 0.44859017, 1.10542839,\n",
       "        0.67040964, 0.44196631, 0.6120738 , 0.92533193, 0.63749621,\n",
       "        0.82183441, 0.84300669, 0.73139185, 0.86338861, 1.08597766,\n",
       "        0.2436844 , 1.10775643, 0.84813009, 0.43127688, 0.52231672,\n",
       "        0.31902011, 0.52491347, 0.41880709, 0.23118425, 0.33706379,\n",
       "        0.4670101 , 0.4295666 , 0.55799402, 1.07168309, 0.60687589,\n",
       "        0.62737693, 0.82020369, 0.2772308 , 0.74818084, 1.21427772,\n",
       "        0.53622072, 1.21748744, 0.60350026, 0.66935084, 0.71977082,\n",
       "        0.54818783, 1.1530276 , 0.5037194 , 0.72649945, 0.98448701,\n",
       "        1.20990678, 0.8760722 , 0.39709817, 0.4698218 , 1.13485483,\n",
       "        0.30127031, 0.60003456, 0.9374624 , 0.31127147, 0.22930231,\n",
       "        0.92620422, 0.58992124, 0.34514871, 1.08881091, 0.26700235,\n",
       "        0.66155872, 0.69374056, 0.31507672, 0.84899488, 0.71072733,\n",
       "        0.3090921 , 0.60529259, 0.97507884, 1.11944048, 0.2802187 ,\n",
       "        1.00010961, 0.32712242, 0.8840573 , 0.37981912, 0.99085163,\n",
       "        0.6715029 , 0.92468695, 0.91562685, 0.46513752, 0.36433173,\n",
       "        1.08306365, 1.00929619, 0.34532358, 0.93617626, 0.61797183]])"
      ]
     },
     "execution_count": 57,
     "metadata": {},
     "output_type": "execute_result"
    }
   ],
   "source": []
  },
  {
   "cell_type": "code",
   "execution_count": null,
   "metadata": {},
   "outputs": [],
   "source": []
  },
  {
   "cell_type": "code",
   "execution_count": null,
   "metadata": {},
   "outputs": [],
   "source": []
  }
 ],
 "metadata": {
  "interpreter": {
   "hash": "9d635fac63618d961f9c0a107e08197b6a7b982fdf7530708cf3436bb6241dec"
  },
  "kernelspec": {
   "display_name": "Python 3 (ipykernel)",
   "language": "python",
   "name": "python3"
  },
  "language_info": {
   "codemirror_mode": {
    "name": "ipython",
    "version": 3
   },
   "file_extension": ".py",
   "mimetype": "text/x-python",
   "name": "python",
   "nbconvert_exporter": "python",
   "pygments_lexer": "ipython3",
   "version": "3.9.0"
  }
 },
 "nbformat": 4,
 "nbformat_minor": 4
}
